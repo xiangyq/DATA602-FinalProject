{
 "cells": [
  {
   "cell_type": "markdown",
   "metadata": {},
   "source": [
    "# DATA 602 Final Project  - ED Stock Analysis"
   ]
  },
  {
   "cell_type": "markdown",
   "metadata": {},
   "source": [
    "## Introduction\n",
    "\n",
    "Based on the past, ED (Consolidated Edison) is a very nice stock with steady stock price increasing over time and high annual dividend. Meanwhile I also had very positive trading experienc with ED during the past several years. Recently, ED stock price even broke through \\$70 and its current closing price is \\$72.74. At present, I am not holding any position of ED. This project will help me gain deep understanding about Consolidated Edison. More importantly, this project is trying to answer the following question: Is now the right time to invest in ED?"
   ]
  },
  {
   "cell_type": "markdown",
   "metadata": {},
   "source": [
    "## Data Collection\n",
    "I collect data in two ways:\n",
    "\n",
    "    1.) Download history stock price from Yahoo Finance\n",
    "http://www.yahoo.com/finance\n",
    "\n",
    "    2.) Extract data from company’s seasonal earning reports\n",
    "http://investor.conedison.com/phoenix.zhtml?c=61493&p=irol-reportsOther"
   ]
  },
  {
   "cell_type": "markdown",
   "metadata": {},
   "source": [
    "## Data Analysis\n",
    "### Part I: Analysis of ED Histroy Stock Prices"
   ]
  },
  {
   "cell_type": "code",
   "execution_count": 44,
   "metadata": {
    "collapsed": true
   },
   "outputs": [],
   "source": [
    "import pandas as pd\n",
    "from pandas import Series,DataFrame\n",
    "import numpy as np\n",
    "import matplotlib.pyplot as plt\n",
    "%matplotlib inline\n",
    "from pandas.io.data import DataReader\n",
    "from datetime import datetime\n",
    "from __future__ import division\n",
    "from scipy import stats\n",
    "import seaborn as sns\n",
    "sns.set_style('darkgrid')"
   ]
  },
  {
   "cell_type": "code",
   "execution_count": 45,
   "metadata": {
    "collapsed": false
   },
   "outputs": [],
   "source": [
    "start = datetime(2005,1,1)\n",
    "end = datetime(2016,5,28)\n",
    "ED = DataReader('ED','yahoo',start,end)"
   ]
  },
  {
   "cell_type": "code",
   "execution_count": 46,
   "metadata": {
    "collapsed": false
   },
   "outputs": [
    {
     "data": {
      "text/html": [
       "<div>\n",
       "<table border=\"1\" class=\"dataframe\">\n",
       "  <thead>\n",
       "    <tr style=\"text-align: right;\">\n",
       "      <th></th>\n",
       "      <th>Open</th>\n",
       "      <th>High</th>\n",
       "      <th>Low</th>\n",
       "      <th>Close</th>\n",
       "      <th>Volume</th>\n",
       "      <th>Adj Close</th>\n",
       "    </tr>\n",
       "    <tr>\n",
       "      <th>Date</th>\n",
       "      <th></th>\n",
       "      <th></th>\n",
       "      <th></th>\n",
       "      <th></th>\n",
       "      <th></th>\n",
       "      <th></th>\n",
       "    </tr>\n",
       "  </thead>\n",
       "  <tbody>\n",
       "    <tr>\n",
       "      <th>2005-01-03</th>\n",
       "      <td>43.759998</td>\n",
       "      <td>43.910000</td>\n",
       "      <td>43.080002</td>\n",
       "      <td>43.299999</td>\n",
       "      <td>1328900</td>\n",
       "      <td>25.371171</td>\n",
       "    </tr>\n",
       "    <tr>\n",
       "      <th>2005-01-04</th>\n",
       "      <td>43.419998</td>\n",
       "      <td>43.590000</td>\n",
       "      <td>43.160000</td>\n",
       "      <td>43.169998</td>\n",
       "      <td>1159700</td>\n",
       "      <td>25.294998</td>\n",
       "    </tr>\n",
       "    <tr>\n",
       "      <th>2005-01-05</th>\n",
       "      <td>42.959999</td>\n",
       "      <td>42.980000</td>\n",
       "      <td>42.540001</td>\n",
       "      <td>42.700001</td>\n",
       "      <td>2116200</td>\n",
       "      <td>25.019608</td>\n",
       "    </tr>\n",
       "    <tr>\n",
       "      <th>2005-01-06</th>\n",
       "      <td>42.650002</td>\n",
       "      <td>42.849998</td>\n",
       "      <td>42.630001</td>\n",
       "      <td>42.750000</td>\n",
       "      <td>889200</td>\n",
       "      <td>25.048905</td>\n",
       "    </tr>\n",
       "    <tr>\n",
       "      <th>2005-01-07</th>\n",
       "      <td>42.980000</td>\n",
       "      <td>43.160000</td>\n",
       "      <td>42.599998</td>\n",
       "      <td>42.869999</td>\n",
       "      <td>873600</td>\n",
       "      <td>25.119217</td>\n",
       "    </tr>\n",
       "  </tbody>\n",
       "</table>\n",
       "</div>"
      ],
      "text/plain": [
       "                 Open       High        Low      Close   Volume  Adj Close\n",
       "Date                                                                      \n",
       "2005-01-03  43.759998  43.910000  43.080002  43.299999  1328900  25.371171\n",
       "2005-01-04  43.419998  43.590000  43.160000  43.169998  1159700  25.294998\n",
       "2005-01-05  42.959999  42.980000  42.540001  42.700001  2116200  25.019608\n",
       "2005-01-06  42.650002  42.849998  42.630001  42.750000   889200  25.048905\n",
       "2005-01-07  42.980000  43.160000  42.599998  42.869999   873600  25.119217"
      ]
     },
     "execution_count": 46,
     "metadata": {},
     "output_type": "execute_result"
    }
   ],
   "source": [
    "ED.head()"
   ]
  },
  {
   "cell_type": "code",
   "execution_count": 165,
   "metadata": {
    "collapsed": false,
    "scrolled": true
   },
   "outputs": [
    {
     "data": {
      "text/plain": [
       "<matplotlib.lines.Line2D at 0x117241b50>"
      ]
     },
     "execution_count": 165,
     "metadata": {},
     "output_type": "execute_result"
    },
    {
     "data": {
      "image/png": "[encoded data removed]",
      "text/plain": [
       "<matplotlib.figure.Figure at 0x115d86990>"
      ]
     },
     "metadata": {},
     "output_type": "display_data"
    }
   ],
   "source": [
    "ED['Adj Close'].plot(legend=True,figsize=(11,4))\n",
    "plt.axvline(x='2009-01-01',color='k')\n",
    "plt.axvline(x='2012-10-01',color='k')"
   ]
  },
  {
   "cell_type": "code",
   "execution_count": 115,
   "metadata": {
    "collapsed": false
   },
   "outputs": [
    {
     "data": {
      "text/plain": [
       "<matplotlib.lines.Line2D at 0x112fd3d10>"
      ]
     },
     "execution_count": 115,
     "metadata": {},
     "output_type": "execute_result"
    },
    {
     "data": {
      "image/png": "[encoded data removed]",
      "text/plain": [
       "<matplotlib.figure.Figure at 0x112096d10>"
      ]
     },
     "metadata": {},
     "output_type": "display_data"
    }
   ],
   "source": [
    "ED['Volume'].plot(legend=True,figsize=(12,4))\n",
    "plt.axvline(x='2007-05-01',color='k')\n",
    "plt.axvline(x='2013-09-01',color='k')"
   ]
  },
  {
   "cell_type": "code",
   "execution_count": 50,
   "metadata": {
    "collapsed": true
   },
   "outputs": [],
   "source": [
    "ma_day = [10,20,50]\n",
    "\n",
    "for ma in ma_day:\n",
    "    column_name = \"MA for %s days\" %(str(ma))\n",
    "    ED[column_name]=pd.rolling_mean(ED['Adj Close'],ma)"
   ]
  },
  {
   "cell_type": "code",
   "execution_count": 51,
   "metadata": {
    "collapsed": false
   },
   "outputs": [
    {
     "data": {
      "text/plain": [
       "<matplotlib.axes._subplots.AxesSubplot at 0x10d83e210>"
      ]
     },
     "execution_count": 51,
     "metadata": {},
     "output_type": "execute_result"
    },
    {
     "data": {
      "image/png": "[encoded data removed]",
      "text/plain": [
       "<matplotlib.figure.Figure at 0x10bf86390>"
      ]
     },
     "metadata": {},
     "output_type": "display_data"
    }
   ],
   "source": [
    "ED[['Adj Close','MA for 10 days','MA for 20 days','MA for 50 days']].plot(subplots=False,figsize=(12,4))"
   ]
  },
  {
   "cell_type": "code",
   "execution_count": 119,
   "metadata": {
    "collapsed": false
   },
   "outputs": [
    {
     "data": {
      "text/plain": [
       "<matplotlib.lines.Line2D at 0x114171cd0>"
      ]
     },
     "execution_count": 119,
     "metadata": {},
     "output_type": "execute_result"
    },
    {
     "data": {
      "image/png": "[encoded data removed]",
      "text/plain": [
       "<matplotlib.figure.Figure at 0x112774bd0>"
      ]
     },
     "metadata": {},
     "output_type": "display_data"
    }
   ],
   "source": [
    "ED['Daily Return'] = ED['Adj Close'].pct_change()\n",
    "\n",
    "ED['Daily Return'].plot(figsize=(12,4),legend=True,linestyle='--',marker='o')\n",
    "plt.axvline(x='2008-07-01',color='r')\n",
    "plt.axvline(x='2008-12-31',color='r')"
   ]
  },
  {
   "cell_type": "code",
   "execution_count": 120,
   "metadata": {
    "collapsed": true
   },
   "outputs": [],
   "source": [
    "start = datetime(2005,1,1)\n",
    "end = datetime(2016,5,28)\n",
    "df = DataReader(['ED','^GSPC'],'yahoo',start,end)['Adj Close']\n",
    "df.columns = ['ED','SP500']"
   ]
  },
  {
   "cell_type": "code",
   "execution_count": 121,
   "metadata": {
    "collapsed": false
   },
   "outputs": [
    {
     "data": {
      "text/html": [
       "<div>\n",
       "<table border=\"1\" class=\"dataframe\">\n",
       "  <thead>\n",
       "    <tr style=\"text-align: right;\">\n",
       "      <th></th>\n",
       "      <th>ED</th>\n",
       "      <th>SP500</th>\n",
       "    </tr>\n",
       "    <tr>\n",
       "      <th>Date</th>\n",
       "      <th></th>\n",
       "      <th></th>\n",
       "    </tr>\n",
       "  </thead>\n",
       "  <tbody>\n",
       "    <tr>\n",
       "      <th>2005-01-03</th>\n",
       "      <td>25.371171</td>\n",
       "      <td>1202.079956</td>\n",
       "    </tr>\n",
       "    <tr>\n",
       "      <th>2005-01-04</th>\n",
       "      <td>25.294998</td>\n",
       "      <td>1188.050049</td>\n",
       "    </tr>\n",
       "    <tr>\n",
       "      <th>2005-01-05</th>\n",
       "      <td>25.019608</td>\n",
       "      <td>1183.739990</td>\n",
       "    </tr>\n",
       "    <tr>\n",
       "      <th>2005-01-06</th>\n",
       "      <td>25.048905</td>\n",
       "      <td>1187.890015</td>\n",
       "    </tr>\n",
       "    <tr>\n",
       "      <th>2005-01-07</th>\n",
       "      <td>25.119217</td>\n",
       "      <td>1186.189941</td>\n",
       "    </tr>\n",
       "  </tbody>\n",
       "</table>\n",
       "</div>"
      ],
      "text/plain": [
       "                   ED        SP500\n",
       "Date                              \n",
       "2005-01-03  25.371171  1202.079956\n",
       "2005-01-04  25.294998  1188.050049\n",
       "2005-01-05  25.019608  1183.739990\n",
       "2005-01-06  25.048905  1187.890015\n",
       "2005-01-07  25.119217  1186.189941"
      ]
     },
     "execution_count": 121,
     "metadata": {},
     "output_type": "execute_result"
    }
   ],
   "source": [
    "df.head()"
   ]
  },
  {
   "cell_type": "code",
   "execution_count": 122,
   "metadata": {
    "collapsed": true
   },
   "outputs": [],
   "source": [
    "df_ret = df.pct_change()"
   ]
  },
  {
   "cell_type": "code",
   "execution_count": 123,
   "metadata": {
    "collapsed": false
   },
   "outputs": [
    {
     "data": {
      "text/html": [
       "<div>\n",
       "<table border=\"1\" class=\"dataframe\">\n",
       "  <thead>\n",
       "    <tr style=\"text-align: right;\">\n",
       "      <th></th>\n",
       "      <th>ED</th>\n",
       "      <th>SP500</th>\n",
       "    </tr>\n",
       "    <tr>\n",
       "      <th>Date</th>\n",
       "      <th></th>\n",
       "      <th></th>\n",
       "    </tr>\n",
       "  </thead>\n",
       "  <tbody>\n",
       "    <tr>\n",
       "      <th>2005-01-03</th>\n",
       "      <td>NaN</td>\n",
       "      <td>NaN</td>\n",
       "    </tr>\n",
       "    <tr>\n",
       "      <th>2005-01-04</th>\n",
       "      <td>-0.003002</td>\n",
       "      <td>-0.011671</td>\n",
       "    </tr>\n",
       "    <tr>\n",
       "      <th>2005-01-05</th>\n",
       "      <td>-0.010887</td>\n",
       "      <td>-0.003628</td>\n",
       "    </tr>\n",
       "    <tr>\n",
       "      <th>2005-01-06</th>\n",
       "      <td>0.001171</td>\n",
       "      <td>0.003506</td>\n",
       "    </tr>\n",
       "    <tr>\n",
       "      <th>2005-01-07</th>\n",
       "      <td>0.002807</td>\n",
       "      <td>-0.001431</td>\n",
       "    </tr>\n",
       "  </tbody>\n",
       "</table>\n",
       "</div>"
      ],
      "text/plain": [
       "                  ED     SP500\n",
       "Date                          \n",
       "2005-01-03       NaN       NaN\n",
       "2005-01-04 -0.003002 -0.011671\n",
       "2005-01-05 -0.010887 -0.003628\n",
       "2005-01-06  0.001171  0.003506\n",
       "2005-01-07  0.002807 -0.001431"
      ]
     },
     "execution_count": 123,
     "metadata": {},
     "output_type": "execute_result"
    }
   ],
   "source": [
    "df_ret.head()"
   ]
  },
  {
   "cell_type": "code",
   "execution_count": 126,
   "metadata": {
    "collapsed": false
   },
   "outputs": [
    {
     "data": {
      "image/png": "[encoded data removed]",
      "text/plain": [
       "<matplotlib.figure.Figure at 0x11451ae10>"
      ]
     },
     "metadata": {},
     "output_type": "display_data"
    }
   ],
   "source": [
    "rets =df_ret.dropna()\n",
    "\n",
    "area = np.pi*5\n",
    "\n",
    "plt.scatter(rets.mean(), rets.std(),alpha = 0.8,s =area)\n",
    "\n",
    "plt.xlabel('Expected returns')\n",
    "plt.ylabel('Risk')\n",
    "\n",
    "for label, x, y in zip(rets.columns, rets.mean(), rets.std()):\n",
    "    plt.annotate(\n",
    "        label, \n",
    "        xy = (x, y), xytext = (45, 45),\n",
    "        textcoords = 'offset points', ha = 'right', va = 'bottom',\n",
    "        arrowprops = dict(arrowstyle = '-', connectionstyle = 'arc3,rad=-0.5'))"
   ]
  },
  {
   "cell_type": "code",
   "execution_count": 127,
   "metadata": {
    "collapsed": false
   },
   "outputs": [
    {
     "data": {
      "text/plain": [
       "-0.015679651288070046"
      ]
     },
     "execution_count": 127,
     "metadata": {},
     "output_type": "execute_result"
    }
   ],
   "source": [
    "rets['ED'].quantile(0.05)"
   ]
  },
  {
   "cell_type": "code",
   "execution_count": 128,
   "metadata": {
    "collapsed": false
   },
   "outputs": [
    {
     "data": {
      "text/plain": [
       "-0.018625126494833916"
      ]
     },
     "execution_count": 128,
     "metadata": {},
     "output_type": "execute_result"
    }
   ],
   "source": [
    "rets['SP500'].quantile(0.05)"
   ]
  },
  {
   "cell_type": "markdown",
   "metadata": {},
   "source": [
    "### Part II: Analysis of ED Earning Report Data"
   ]
  },
  {
   "cell_type": "code",
   "execution_count": 129,
   "metadata": {
    "collapsed": false
   },
   "outputs": [],
   "source": [
    "ED_er = pd.read_csv('ED_ER.csv',header=True)\n",
    "ED_er = ED_er.reindex(index=ED_er.index[::-1])"
   ]
  },
  {
   "cell_type": "code",
   "execution_count": 130,
   "metadata": {
    "collapsed": false
   },
   "outputs": [
    {
     "data": {
      "text/html": [
       "<div>\n",
       "<table border=\"1\" class=\"dataframe\">\n",
       "  <thead>\n",
       "    <tr style=\"text-align: right;\">\n",
       "      <th></th>\n",
       "      <th>Year</th>\n",
       "      <th>Quarter</th>\n",
       "      <th>TOTAL OPERATING REVENUES</th>\n",
       "      <th>TOTAL OPERATING EXPENSES</th>\n",
       "      <th>OPERATING INCOME</th>\n",
       "      <th>NET INCOME</th>\n",
       "      <th>Net income per common basic share</th>\n",
       "      <th>Net income per common diluted share</th>\n",
       "      <th>DIVIDENDS DECLARED PER COMMON SHARE</th>\n",
       "    </tr>\n",
       "  </thead>\n",
       "  <tbody>\n",
       "    <tr>\n",
       "      <th>55</th>\n",
       "      <td>2005</td>\n",
       "      <td>Q1</td>\n",
       "      <td>2801</td>\n",
       "      <td>2518</td>\n",
       "      <td>283</td>\n",
       "      <td>181</td>\n",
       "      <td>0.75</td>\n",
       "      <td>0.75</td>\n",
       "      <td>0.57</td>\n",
       "    </tr>\n",
       "    <tr>\n",
       "      <th>54</th>\n",
       "      <td>2005</td>\n",
       "      <td>Q2</td>\n",
       "      <td>2406</td>\n",
       "      <td>2180</td>\n",
       "      <td>226</td>\n",
       "      <td>115</td>\n",
       "      <td>0.47</td>\n",
       "      <td>0.47</td>\n",
       "      <td>0.57</td>\n",
       "    </tr>\n",
       "    <tr>\n",
       "      <th>53</th>\n",
       "      <td>2005</td>\n",
       "      <td>Q3</td>\n",
       "      <td>3375</td>\n",
       "      <td>2956</td>\n",
       "      <td>419</td>\n",
       "      <td>285</td>\n",
       "      <td>1.17</td>\n",
       "      <td>1.16</td>\n",
       "      <td>0.57</td>\n",
       "    </tr>\n",
       "    <tr>\n",
       "      <th>52</th>\n",
       "      <td>2005</td>\n",
       "      <td>Q4</td>\n",
       "      <td>3108</td>\n",
       "      <td>2878</td>\n",
       "      <td>230</td>\n",
       "      <td>138</td>\n",
       "      <td>0.56</td>\n",
       "      <td>0.56</td>\n",
       "      <td>0.57</td>\n",
       "    </tr>\n",
       "    <tr>\n",
       "      <th>51</th>\n",
       "      <td>2005</td>\n",
       "      <td>Annual</td>\n",
       "      <td>11690</td>\n",
       "      <td>10532</td>\n",
       "      <td>1158</td>\n",
       "      <td>719</td>\n",
       "      <td>2.95</td>\n",
       "      <td>2.94</td>\n",
       "      <td>2.28</td>\n",
       "    </tr>\n",
       "  </tbody>\n",
       "</table>\n",
       "</div>"
      ],
      "text/plain": [
       "    Year Quarter  TOTAL OPERATING REVENUES  TOTAL OPERATING EXPENSES  \\\n",
       "55  2005      Q1                      2801                      2518   \n",
       "54  2005      Q2                      2406                      2180   \n",
       "53  2005      Q3                      3375                      2956   \n",
       "52  2005      Q4                      3108                      2878   \n",
       "51  2005  Annual                     11690                     10532   \n",
       "\n",
       "    OPERATING INCOME  NET INCOME  Net income per common basic share  \\\n",
       "55               283         181                               0.75   \n",
       "54               226         115                               0.47   \n",
       "53               419         285                               1.17   \n",
       "52               230         138                               0.56   \n",
       "51              1158         719                               2.95   \n",
       "\n",
       "    Net income per common diluted share  DIVIDENDS DECLARED PER COMMON SHARE  \n",
       "55                                 0.75                                 0.57  \n",
       "54                                 0.47                                 0.57  \n",
       "53                                 1.16                                 0.57  \n",
       "52                                 0.56                                 0.57  \n",
       "51                                 2.94                                 2.28  "
      ]
     },
     "execution_count": 130,
     "metadata": {},
     "output_type": "execute_result"
    }
   ],
   "source": [
    "ED_er.head()"
   ]
  },
  {
   "cell_type": "code",
   "execution_count": 131,
   "metadata": {
    "collapsed": false
   },
   "outputs": [],
   "source": [
    "ED_er_q = ED_er[ED_er['Quarter']!='Annual']"
   ]
  },
  {
   "cell_type": "code",
   "execution_count": 132,
   "metadata": {
    "collapsed": false
   },
   "outputs": [
    {
     "data": {
      "text/html": [
       "<div>\n",
       "<table border=\"1\" class=\"dataframe\">\n",
       "  <thead>\n",
       "    <tr style=\"text-align: right;\">\n",
       "      <th></th>\n",
       "      <th>Year</th>\n",
       "      <th>Quarter</th>\n",
       "      <th>TOTAL OPERATING REVENUES</th>\n",
       "      <th>TOTAL OPERATING EXPENSES</th>\n",
       "      <th>OPERATING INCOME</th>\n",
       "      <th>NET INCOME</th>\n",
       "      <th>Net income per common basic share</th>\n",
       "      <th>Net income per common diluted share</th>\n",
       "      <th>DIVIDENDS DECLARED PER COMMON SHARE</th>\n",
       "    </tr>\n",
       "  </thead>\n",
       "  <tbody>\n",
       "    <tr>\n",
       "      <th>55</th>\n",
       "      <td>2005</td>\n",
       "      <td>Q1</td>\n",
       "      <td>2801</td>\n",
       "      <td>2518</td>\n",
       "      <td>283</td>\n",
       "      <td>181</td>\n",
       "      <td>0.75</td>\n",
       "      <td>0.75</td>\n",
       "      <td>0.570</td>\n",
       "    </tr>\n",
       "    <tr>\n",
       "      <th>54</th>\n",
       "      <td>2005</td>\n",
       "      <td>Q2</td>\n",
       "      <td>2406</td>\n",
       "      <td>2180</td>\n",
       "      <td>226</td>\n",
       "      <td>115</td>\n",
       "      <td>0.47</td>\n",
       "      <td>0.47</td>\n",
       "      <td>0.570</td>\n",
       "    </tr>\n",
       "    <tr>\n",
       "      <th>53</th>\n",
       "      <td>2005</td>\n",
       "      <td>Q3</td>\n",
       "      <td>3375</td>\n",
       "      <td>2956</td>\n",
       "      <td>419</td>\n",
       "      <td>285</td>\n",
       "      <td>1.17</td>\n",
       "      <td>1.16</td>\n",
       "      <td>0.570</td>\n",
       "    </tr>\n",
       "    <tr>\n",
       "      <th>52</th>\n",
       "      <td>2005</td>\n",
       "      <td>Q4</td>\n",
       "      <td>3108</td>\n",
       "      <td>2878</td>\n",
       "      <td>230</td>\n",
       "      <td>138</td>\n",
       "      <td>0.56</td>\n",
       "      <td>0.56</td>\n",
       "      <td>0.570</td>\n",
       "    </tr>\n",
       "    <tr>\n",
       "      <th>50</th>\n",
       "      <td>2006</td>\n",
       "      <td>Q1</td>\n",
       "      <td>3317</td>\n",
       "      <td>3009</td>\n",
       "      <td>308</td>\n",
       "      <td>181</td>\n",
       "      <td>0.74</td>\n",
       "      <td>0.74</td>\n",
       "      <td>0.575</td>\n",
       "    </tr>\n",
       "  </tbody>\n",
       "</table>\n",
       "</div>"
      ],
      "text/plain": [
       "    Year Quarter  TOTAL OPERATING REVENUES  TOTAL OPERATING EXPENSES  \\\n",
       "55  2005      Q1                      2801                      2518   \n",
       "54  2005      Q2                      2406                      2180   \n",
       "53  2005      Q3                      3375                      2956   \n",
       "52  2005      Q4                      3108                      2878   \n",
       "50  2006      Q1                      3317                      3009   \n",
       "\n",
       "    OPERATING INCOME  NET INCOME  Net income per common basic share  \\\n",
       "55               283         181                               0.75   \n",
       "54               226         115                               0.47   \n",
       "53               419         285                               1.17   \n",
       "52               230         138                               0.56   \n",
       "50               308         181                               0.74   \n",
       "\n",
       "    Net income per common diluted share  DIVIDENDS DECLARED PER COMMON SHARE  \n",
       "55                                 0.75                                0.570  \n",
       "54                                 0.47                                0.570  \n",
       "53                                 1.16                                0.570  \n",
       "52                                 0.56                                0.570  \n",
       "50                                 0.74                                0.575  "
      ]
     },
     "execution_count": 132,
     "metadata": {},
     "output_type": "execute_result"
    }
   ],
   "source": [
    "ED_er_q.head()"
   ]
  },
  {
   "cell_type": "code",
   "execution_count": 133,
   "metadata": {
    "collapsed": false
   },
   "outputs": [],
   "source": [
    "ED_er_y = ED_er[ED_er['Quarter'] == 'Annual']\n",
    "ED_er_y = ED_er_y.drop('Quarter', 1)"
   ]
  },
  {
   "cell_type": "code",
   "execution_count": 134,
   "metadata": {
    "collapsed": false
   },
   "outputs": [
    {
     "data": {
      "text/html": [
       "<div>\n",
       "<table border=\"1\" class=\"dataframe\">\n",
       "  <thead>\n",
       "    <tr style=\"text-align: right;\">\n",
       "      <th></th>\n",
       "      <th>Year</th>\n",
       "      <th>TOTAL OPERATING REVENUES</th>\n",
       "      <th>TOTAL OPERATING EXPENSES</th>\n",
       "      <th>OPERATING INCOME</th>\n",
       "      <th>NET INCOME</th>\n",
       "      <th>Net income per common basic share</th>\n",
       "      <th>Net income per common diluted share</th>\n",
       "      <th>DIVIDENDS DECLARED PER COMMON SHARE</th>\n",
       "    </tr>\n",
       "  </thead>\n",
       "  <tbody>\n",
       "    <tr>\n",
       "      <th>51</th>\n",
       "      <td>2005</td>\n",
       "      <td>11690</td>\n",
       "      <td>10532</td>\n",
       "      <td>1158</td>\n",
       "      <td>719</td>\n",
       "      <td>2.95</td>\n",
       "      <td>2.94</td>\n",
       "      <td>2.28</td>\n",
       "    </tr>\n",
       "    <tr>\n",
       "      <th>46</th>\n",
       "      <td>2006</td>\n",
       "      <td>12137</td>\n",
       "      <td>10873</td>\n",
       "      <td>1260</td>\n",
       "      <td>737</td>\n",
       "      <td>2.96</td>\n",
       "      <td>2.95</td>\n",
       "      <td>2.30</td>\n",
       "    </tr>\n",
       "    <tr>\n",
       "      <th>41</th>\n",
       "      <td>2007</td>\n",
       "      <td>13120</td>\n",
       "      <td>11725</td>\n",
       "      <td>1395</td>\n",
       "      <td>929</td>\n",
       "      <td>3.48</td>\n",
       "      <td>3.46</td>\n",
       "      <td>2.32</td>\n",
       "    </tr>\n",
       "    <tr>\n",
       "      <th>36</th>\n",
       "      <td>2008</td>\n",
       "      <td>13583</td>\n",
       "      <td>12175</td>\n",
       "      <td>1408</td>\n",
       "      <td>1196</td>\n",
       "      <td>3.37</td>\n",
       "      <td>3.36</td>\n",
       "      <td>2.34</td>\n",
       "    </tr>\n",
       "    <tr>\n",
       "      <th>31</th>\n",
       "      <td>2009</td>\n",
       "      <td>13032</td>\n",
       "      <td>11257</td>\n",
       "      <td>1774</td>\n",
       "      <td>879</td>\n",
       "      <td>3.16</td>\n",
       "      <td>3.14</td>\n",
       "      <td>2.36</td>\n",
       "    </tr>\n",
       "  </tbody>\n",
       "</table>\n",
       "</div>"
      ],
      "text/plain": [
       "    Year  TOTAL OPERATING REVENUES  TOTAL OPERATING EXPENSES  \\\n",
       "51  2005                     11690                     10532   \n",
       "46  2006                     12137                     10873   \n",
       "41  2007                     13120                     11725   \n",
       "36  2008                     13583                     12175   \n",
       "31  2009                     13032                     11257   \n",
       "\n",
       "    OPERATING INCOME  NET INCOME  Net income per common basic share  \\\n",
       "51              1158         719                               2.95   \n",
       "46              1260         737                               2.96   \n",
       "41              1395         929                               3.48   \n",
       "36              1408        1196                               3.37   \n",
       "31              1774         879                               3.16   \n",
       "\n",
       "    Net income per common diluted share  DIVIDENDS DECLARED PER COMMON SHARE  \n",
       "51                                 2.94                                 2.28  \n",
       "46                                 2.95                                 2.30  \n",
       "41                                 3.46                                 2.32  \n",
       "36                                 3.36                                 2.34  \n",
       "31                                 3.14                                 2.36  "
      ]
     },
     "execution_count": 134,
     "metadata": {},
     "output_type": "execute_result"
    }
   ],
   "source": [
    "ED_er_y.head()"
   ]
  },
  {
   "cell_type": "code",
   "execution_count": 152,
   "metadata": {
    "collapsed": false
   },
   "outputs": [
    {
     "data": {
      "text/plain": [
       "<matplotlib.text.Text at 0x114263a50>"
      ]
     },
     "execution_count": 152,
     "metadata": {},
     "output_type": "execute_result"
    },
    {
     "data": {
      "image/png": "[encoded data removed]",
      "text/plain": [
       "<matplotlib.figure.Figure at 0x1141be450>"
      ]
     },
     "metadata": {},
     "output_type": "display_data"
    }
   ],
   "source": [
    "plt.bar(ED_er_y['Year'],ED_er_y['DIVIDENDS DECLARED PER COMMON SHARE'])\n",
    "plt.xlim([2005,2016])\n",
    "plt.ylim([2.0,2.7])\n",
    "plt.title('ED Dividend Declared Changing Over Time')"
   ]
  },
  {
   "cell_type": "code",
   "execution_count": 157,
   "metadata": {
    "collapsed": false
   },
   "outputs": [
    {
     "data": {
      "text/plain": [
       "<matplotlib.lines.Line2D at 0x1158aa190>"
      ]
     },
     "execution_count": 157,
     "metadata": {},
     "output_type": "execute_result"
    },
    {
     "data": {
      "image/png": "[encoded data removed]",
      "text/plain": [
       "<matplotlib.figure.Figure at 0x11541a5d0>"
      ]
     },
     "metadata": {},
     "output_type": "display_data"
    }
   ],
   "source": [
    "plt.bar(ED_er_y['Year'],ED_er_y['Net income per common diluted share'])\n",
    "plt.xlim([2005,2016])\n",
    "plt.ylim([1.5,4.5])\n",
    "plt.axvline(x='2009',color='r')\n",
    "plt.axvline(x='2013',color='r')"
   ]
  },
  {
   "cell_type": "code",
   "execution_count": 163,
   "metadata": {
    "collapsed": false
   },
   "outputs": [
    {
     "data": {
      "text/plain": [
       "<matplotlib.lines.Line2D at 0x116141cd0>"
      ]
     },
     "execution_count": 163,
     "metadata": {},
     "output_type": "execute_result"
    },
    {
     "data": {
      "image/png": "[encoded data removed]",
      "text/plain": [
       "<matplotlib.figure.Figure at 0x115f30d90>"
      ]
     },
     "metadata": {},
     "output_type": "display_data"
    }
   ],
   "source": [
    "plt.bar(ED_er_y['Year'],ED_er_y['TOTAL OPERATING REVENUES'])\n",
    "plt.xlim([2005,2016])\n",
    "plt.ylim([10000,14000])\n",
    "plt.axvline(x='2009',color='r')\n",
    "plt.axvline(x='2013',color='r')"
   ]
  },
  {
   "cell_type": "code",
   "execution_count": 160,
   "metadata": {
    "collapsed": false
   },
   "outputs": [
    {
     "data": {
      "text/plain": [
       "<matplotlib.lines.Line2D at 0x116d3c610>"
      ]
     },
     "execution_count": 160,
     "metadata": {},
     "output_type": "execute_result"
    },
    {
     "data": {
      "image/png": "[encoded data removed]",
      "text/plain": [
       "<matplotlib.figure.Figure at 0x1159a3750>"
      ]
     },
     "metadata": {},
     "output_type": "display_data"
    }
   ],
   "source": [
    "plt.bar(ED_er_y['Year'],ED_er_y['TOTAL OPERATING EXPENSES'])\n",
    "plt.xlim([2005,2016])\n",
    "plt.ylim([8000,13000])\n",
    "plt.axvline(x='2009',color='r')\n",
    "plt.axvline(x='2013',color='r')"
   ]
  },
  {
   "cell_type": "code",
   "execution_count": 161,
   "metadata": {
    "collapsed": false
   },
   "outputs": [
    {
     "data": {
      "text/plain": [
       "<matplotlib.lines.Line2D at 0x116e96850>"
      ]
     },
     "execution_count": 161,
     "metadata": {},
     "output_type": "execute_result"
    },
    {
     "data": {
      "image/png": "[encoded data removed]",
      "text/plain": [
       "<matplotlib.figure.Figure at 0x116c84f50>"
      ]
     },
     "metadata": {},
     "output_type": "display_data"
    }
   ],
   "source": [
    "plt.bar(ED_er_y['Year'],ED_er_y['OPERATING INCOME'])\n",
    "plt.xlim([2005,2016])\n",
    "plt.ylim([1000,2500])\n",
    "plt.axvline(x='2009',color='r')\n",
    "plt.axvline(x='2013',color='r')"
   ]
  },
  {
   "cell_type": "code",
   "execution_count": 162,
   "metadata": {
    "collapsed": false
   },
   "outputs": [
    {
     "data": {
      "text/plain": [
       "<matplotlib.lines.Line2D at 0x1160bf550>"
      ]
     },
     "execution_count": 162,
     "metadata": {},
     "output_type": "execute_result"
    },
    {
     "data": {
      "image/png": "[encoded data removed]",
      "text/plain": [
       "<matplotlib.figure.Figure at 0x117026850>"
      ]
     },
     "metadata": {},
     "output_type": "display_data"
    }
   ],
   "source": [
    "plt.bar(ED_er_y['Year'],ED_er_y['NET INCOME'])\n",
    "plt.xlim([2005,2016])\n",
    "plt.ylim([600,1300])\n",
    "plt.axvline(x='2009',color='r')\n",
    "plt.axvline(x='2013',color='r')"
   ]
  },
  {
   "cell_type": "code",
   "execution_count": 72,
   "metadata": {
    "collapsed": false
   },
   "outputs": [
    {
     "data": {
      "text/html": [
       "<div>\n",
       "<table border=\"1\" class=\"dataframe\">\n",
       "  <thead>\n",
       "    <tr style=\"text-align: right;\">\n",
       "      <th></th>\n",
       "      <th>Year</th>\n",
       "      <th>Quarter</th>\n",
       "      <th>TOTAL OPERATING REVENUES</th>\n",
       "      <th>TOTAL OPERATING EXPENSES</th>\n",
       "      <th>OPERATING INCOME</th>\n",
       "      <th>NET INCOME</th>\n",
       "      <th>Net income per common basic share</th>\n",
       "      <th>Net income per common diluted share</th>\n",
       "      <th>DIVIDENDS DECLARED PER COMMON SHARE</th>\n",
       "    </tr>\n",
       "  </thead>\n",
       "  <tbody>\n",
       "    <tr>\n",
       "      <th>55</th>\n",
       "      <td>2005</td>\n",
       "      <td>Q1</td>\n",
       "      <td>2801</td>\n",
       "      <td>2518</td>\n",
       "      <td>283</td>\n",
       "      <td>181</td>\n",
       "      <td>0.75</td>\n",
       "      <td>0.75</td>\n",
       "      <td>0.570</td>\n",
       "    </tr>\n",
       "    <tr>\n",
       "      <th>54</th>\n",
       "      <td>2005</td>\n",
       "      <td>Q2</td>\n",
       "      <td>2406</td>\n",
       "      <td>2180</td>\n",
       "      <td>226</td>\n",
       "      <td>115</td>\n",
       "      <td>0.47</td>\n",
       "      <td>0.47</td>\n",
       "      <td>0.570</td>\n",
       "    </tr>\n",
       "    <tr>\n",
       "      <th>53</th>\n",
       "      <td>2005</td>\n",
       "      <td>Q3</td>\n",
       "      <td>3375</td>\n",
       "      <td>2956</td>\n",
       "      <td>419</td>\n",
       "      <td>285</td>\n",
       "      <td>1.17</td>\n",
       "      <td>1.16</td>\n",
       "      <td>0.570</td>\n",
       "    </tr>\n",
       "    <tr>\n",
       "      <th>52</th>\n",
       "      <td>2005</td>\n",
       "      <td>Q4</td>\n",
       "      <td>3108</td>\n",
       "      <td>2878</td>\n",
       "      <td>230</td>\n",
       "      <td>138</td>\n",
       "      <td>0.56</td>\n",
       "      <td>0.56</td>\n",
       "      <td>0.570</td>\n",
       "    </tr>\n",
       "    <tr>\n",
       "      <th>50</th>\n",
       "      <td>2006</td>\n",
       "      <td>Q1</td>\n",
       "      <td>3317</td>\n",
       "      <td>3009</td>\n",
       "      <td>308</td>\n",
       "      <td>181</td>\n",
       "      <td>0.74</td>\n",
       "      <td>0.74</td>\n",
       "      <td>0.575</td>\n",
       "    </tr>\n",
       "  </tbody>\n",
       "</table>\n",
       "</div>"
      ],
      "text/plain": [
       "    Year Quarter  TOTAL OPERATING REVENUES  TOTAL OPERATING EXPENSES  \\\n",
       "55  2005      Q1                      2801                      2518   \n",
       "54  2005      Q2                      2406                      2180   \n",
       "53  2005      Q3                      3375                      2956   \n",
       "52  2005      Q4                      3108                      2878   \n",
       "50  2006      Q1                      3317                      3009   \n",
       "\n",
       "    OPERATING INCOME  NET INCOME  Net income per common basic share  \\\n",
       "55               283         181                               0.75   \n",
       "54               226         115                               0.47   \n",
       "53               419         285                               1.17   \n",
       "52               230         138                               0.56   \n",
       "50               308         181                               0.74   \n",
       "\n",
       "    Net income per common diluted share  DIVIDENDS DECLARED PER COMMON SHARE  \n",
       "55                                 0.75                                0.570  \n",
       "54                                 0.47                                0.570  \n",
       "53                                 1.16                                0.570  \n",
       "52                                 0.56                                0.570  \n",
       "50                                 0.74                                0.575  "
      ]
     },
     "execution_count": 72,
     "metadata": {},
     "output_type": "execute_result"
    }
   ],
   "source": [
    "ED_er_q.head()"
   ]
  },
  {
   "cell_type": "code",
   "execution_count": 73,
   "metadata": {
    "collapsed": false
   },
   "outputs": [
    {
     "data": {
      "text/plain": [
       "<matplotlib.axes._subplots.AxesSubplot at 0x10df17fd0>"
      ]
     },
     "execution_count": 73,
     "metadata": {},
     "output_type": "execute_result"
    },
    {
     "data": {
      "image/png": "[encoded data removed]",
      "text/plain": [
       "<matplotlib.figure.Figure at 0x10e6910d0>"
      ]
     },
     "metadata": {},
     "output_type": "display_data"
    }
   ],
   "source": [
    "ED_er_q.boxplot('Net income per common basic share',by='Year')"
   ]
  },
  {
   "cell_type": "code",
   "execution_count": 74,
   "metadata": {
    "collapsed": false
   },
   "outputs": [],
   "source": [
    "y_1 = ED_er_q['Net income per common basic share'][ED_er_q['Year'].isin([2013,2014,2015,2016])]\n",
    "y_2 = ED_er_q['Net income per common basic share'][ED_er_q['Year'].isin([2009,2010,2011,2012])]\n",
    "y_3 = ED_er_q['Net income per common basic share'][ED_er_q['Year'].isin([2005,2006,2007,2008])]"
   ]
  },
  {
   "cell_type": "code",
   "execution_count": 75,
   "metadata": {
    "collapsed": true
   },
   "outputs": [],
   "source": [
    "F, p = stats.f_oneway(y_1,y_2,y_3)"
   ]
  },
  {
   "cell_type": "code",
   "execution_count": 76,
   "metadata": {
    "collapsed": false
   },
   "outputs": [
    {
     "name": "stdout",
     "output_type": "stream",
     "text": [
      "(0.89702850313657101, 0.41544767418103101)\n"
     ]
    }
   ],
   "source": [
    "print(F,p)"
   ]
  },
  {
   "cell_type": "code",
   "execution_count": 77,
   "metadata": {
    "collapsed": false
   },
   "outputs": [
    {
     "data": {
      "text/plain": [
       "<matplotlib.axes._subplots.AxesSubplot at 0x10efc6e50>"
      ]
     },
     "execution_count": 77,
     "metadata": {},
     "output_type": "execute_result"
    },
    {
     "data": {
      "image/png": "[encoded data removed]",
      "text/plain": [
       "<matplotlib.figure.Figure at 0x10f26d1d0>"
      ]
     },
     "metadata": {},
     "output_type": "display_data"
    }
   ],
   "source": [
    "ED_er_q.boxplot('TOTAL OPERATING REVENUES',by='Year')"
   ]
  },
  {
   "cell_type": "code",
   "execution_count": 78,
   "metadata": {
    "collapsed": false
   },
   "outputs": [
    {
     "name": "stdout",
     "output_type": "stream",
     "text": [
      "(0.14486287042167878, 0.86557131737720283)\n"
     ]
    }
   ],
   "source": [
    "y_1 = ED_er_q['TOTAL OPERATING REVENUES'][ED_er_q['Year'].isin([2013,2014,2015,2016])]\n",
    "y_2 = ED_er_q['TOTAL OPERATING REVENUES'][ED_er_q['Year'].isin([2009,2010,2011,2012])]\n",
    "y_3 = ED_er_q['TOTAL OPERATING REVENUES'][ED_er_q['Year'].isin([2005,2006,2007,2008])]\n",
    "F, p = stats.f_oneway(y_1,y_2,y_3)\n",
    "print(F,p)"
   ]
  },
  {
   "cell_type": "code",
   "execution_count": 79,
   "metadata": {
    "collapsed": false
   },
   "outputs": [
    {
     "data": {
      "text/plain": [
       "<matplotlib.axes._subplots.AxesSubplot at 0x10f68f510>"
      ]
     },
     "execution_count": 79,
     "metadata": {},
     "output_type": "execute_result"
    },
    {
     "data": {
      "image/png": "[encoded data removed]",
      "text/plain": [
       "<matplotlib.figure.Figure at 0x10f67cfd0>"
      ]
     },
     "metadata": {},
     "output_type": "display_data"
    }
   ],
   "source": [
    "ED_er_q.boxplot('TOTAL OPERATING EXPENSES',by='Year')"
   ]
  },
  {
   "cell_type": "code",
   "execution_count": 80,
   "metadata": {
    "collapsed": false
   },
   "outputs": [
    {
     "name": "stdout",
     "output_type": "stream",
     "text": [
      "(2.9664568447446062, 0.062362667822908092)\n"
     ]
    }
   ],
   "source": [
    "y_1 = ED_er_q['TOTAL OPERATING EXPENSES'][ED_er_q['Year'].isin([2013,2014,2015,2016])]\n",
    "y_2 = ED_er_q['TOTAL OPERATING EXPENSES'][ED_er_q['Year'].isin([2009,2010,2011,2012])]\n",
    "y_3 = ED_er_q['TOTAL OPERATING EXPENSES'][ED_er_q['Year'].isin([2005,2006,2007,2008])]\n",
    "F, p = stats.f_oneway(y_1,y_2,y_3)\n",
    "print(F,p)"
   ]
  },
  {
   "cell_type": "code",
   "execution_count": 81,
   "metadata": {
    "collapsed": false
   },
   "outputs": [
    {
     "data": {
      "text/plain": [
       "(-1.2513357665363074, 0.2215459193930655)"
      ]
     },
     "execution_count": 81,
     "metadata": {},
     "output_type": "execute_result"
    }
   ],
   "source": [
    "stats.ttest_ind(y_1,y_2)"
   ]
  },
  {
   "cell_type": "code",
   "execution_count": 82,
   "metadata": {
    "collapsed": false
   },
   "outputs": [
    {
     "data": {
      "text/plain": [
       "(-2.2332954275691699, 0.034012898403855026)"
      ]
     },
     "execution_count": 82,
     "metadata": {},
     "output_type": "execute_result"
    }
   ],
   "source": [
    "stats.ttest_ind(y_1,y_3)"
   ]
  },
  {
   "cell_type": "code",
   "execution_count": 83,
   "metadata": {
    "collapsed": false
   },
   "outputs": [
    {
     "data": {
      "text/plain": [
       "(1.3627246307120415, 0.1831119727300341)"
      ]
     },
     "execution_count": 83,
     "metadata": {},
     "output_type": "execute_result"
    }
   ],
   "source": [
    "stats.ttest_ind(y_3,y_2)"
   ]
  },
  {
   "cell_type": "code",
   "execution_count": 84,
   "metadata": {
    "collapsed": false
   },
   "outputs": [
    {
     "data": {
      "text/plain": [
       "<matplotlib.axes._subplots.AxesSubplot at 0x10fb05d10>"
      ]
     },
     "execution_count": 84,
     "metadata": {},
     "output_type": "execute_result"
    },
    {
     "data": {
      "image/png": "[encoded data removed]",
      "text/plain": [
       "<matplotlib.figure.Figure at 0x10fb05890>"
      ]
     },
     "metadata": {},
     "output_type": "display_data"
    }
   ],
   "source": [
    "ED_er_q.boxplot('OPERATING INCOME',by='Year')"
   ]
  },
  {
   "cell_type": "code",
   "execution_count": 85,
   "metadata": {
    "collapsed": false
   },
   "outputs": [
    {
     "name": "stdout",
     "output_type": "stream",
     "text": [
      "(12.636639510276213, 5.0528984717311369e-05)\n"
     ]
    }
   ],
   "source": [
    "y_1 = ED_er_q['OPERATING INCOME'][ED_er_q['Year'].isin([2013,2014,2015,2016])]\n",
    "y_2 = ED_er_q['OPERATING INCOME'][ED_er_q['Year'].isin([2009,2010,2011,2012])]\n",
    "y_3 = ED_er_q['OPERATING INCOME'][ED_er_q['Year'].isin([2005,2006,2007,2008])]\n",
    "F, p = stats.f_oneway(y_1,y_2,y_3)\n",
    "print(F,p)"
   ]
  },
  {
   "cell_type": "code",
   "execution_count": 86,
   "metadata": {
    "collapsed": false
   },
   "outputs": [
    {
     "data": {
      "text/plain": [
       "(0.75748353624426989, 0.45532070473807607)"
      ]
     },
     "execution_count": 86,
     "metadata": {},
     "output_type": "execute_result"
    }
   ],
   "source": [
    "stats.ttest_ind(y_1,y_2)"
   ]
  },
  {
   "cell_type": "code",
   "execution_count": 87,
   "metadata": {
    "collapsed": false
   },
   "outputs": [
    {
     "data": {
      "text/plain": [
       "(4.824274616422219, 4.8842708488948679e-05)"
      ]
     },
     "execution_count": 87,
     "metadata": {},
     "output_type": "execute_result"
    }
   ],
   "source": [
    "stats.ttest_ind(y_1,y_3)"
   ]
  },
  {
   "cell_type": "code",
   "execution_count": 88,
   "metadata": {
    "collapsed": false
   },
   "outputs": [
    {
     "data": {
      "text/plain": [
       "(-4.7398785268127464, 4.8518405234373955e-05)"
      ]
     },
     "execution_count": 88,
     "metadata": {},
     "output_type": "execute_result"
    }
   ],
   "source": [
    "stats.ttest_ind(y_3,y_2)"
   ]
  },
  {
   "cell_type": "code",
   "execution_count": 89,
   "metadata": {
    "collapsed": false
   },
   "outputs": [
    {
     "data": {
      "text/plain": [
       "<matplotlib.axes._subplots.AxesSubplot at 0x10ff7ef90>"
      ]
     },
     "execution_count": 89,
     "metadata": {},
     "output_type": "execute_result"
    },
    {
     "data": {
      "image/png": "[encoded data removed]",
      "text/plain": [
       "<matplotlib.figure.Figure at 0x10ffb4c50>"
      ]
     },
     "metadata": {},
     "output_type": "display_data"
    }
   ],
   "source": [
    "ED_er_q.boxplot('NET INCOME',by='Year')"
   ]
  },
  {
   "cell_type": "code",
   "execution_count": 90,
   "metadata": {
    "collapsed": false
   },
   "outputs": [
    {
     "name": "stdout",
     "output_type": "stream",
     "text": [
      "(1.1113790531983829, 0.33858893818720703)\n"
     ]
    }
   ],
   "source": [
    "y_1 = ED_er_q['NET INCOME'][ED_er_q['Year'].isin([2013,2014,2015,2016])]\n",
    "y_2 = ED_er_q['NET INCOME'][ED_er_q['Year'].isin([2009,2010,2011,2012])]\n",
    "y_3 = ED_er_q['NET INCOME'][ED_er_q['Year'].isin([2005,2006,2007,2008])]\n",
    "F, p = stats.f_oneway(y_1,y_2,y_3)\n",
    "print(F,p)"
   ]
  },
  {
   "cell_type": "markdown",
   "metadata": {},
   "source": [
    "### Part III: Monte Carlo simulation "
   ]
  },
  {
   "cell_type": "code",
   "execution_count": 91,
   "metadata": {
    "collapsed": true
   },
   "outputs": [],
   "source": [
    "def get_price(days,mu,sigma,price_start):\n",
    "    \"\"\"A function for getting stock price after days by simulation.\n",
    "    \n",
    "    input:\n",
    "        days: the number of days for simulation\n",
    "        mu: the mean of history stock prices\n",
    "        sigma: the standard deviation of history stock prices\n",
    "        price_start: the stock price for starting the simulation\n",
    "    \n",
    "    output:\n",
    "        the stock price in days\n",
    "    \"\"\"\n",
    "    p = np.random.normal(mu,sigma,days)\n",
    "    Price = [price_start]\n",
    "    for i in range(days-1):\n",
    "        price = Price[i]*(1+p[i+1])\n",
    "        Price.append(price)\n",
    "    return(Price[days-1])"
   ]
  },
  {
   "cell_type": "code",
   "execution_count": 95,
   "metadata": {
    "collapsed": false
   },
   "outputs": [
    {
     "data": {
      "text/plain": [
       "Date\n",
       "2016-05-27    72.739998\n",
       "Name: ED, dtype: float64"
      ]
     },
     "execution_count": 95,
     "metadata": {},
     "output_type": "execute_result"
    }
   ],
   "source": [
    "df['ED'].tail(1)"
   ]
  },
  {
   "cell_type": "code",
   "execution_count": 96,
   "metadata": {
    "collapsed": false
   },
   "outputs": [
    {
     "data": {
      "text/plain": [
       "<matplotlib.text.Text at 0x1106232d0>"
      ]
     },
     "execution_count": 96,
     "metadata": {},
     "output_type": "execute_result"
    },
    {
     "data": {
      "image/png": "[encoded data removed]",
      "text/plain": [
       "<matplotlib.figure.Figure at 0x11059df90>"
      ]
     },
     "metadata": {},
     "output_type": "display_data"
    }
   ],
   "source": [
    "mu = rets.mean()['ED']\n",
    "sigma = rets.std()['ED']\n",
    "start_price = 72.74\n",
    "\n",
    "n=10000\n",
    "result = []\n",
    "\n",
    "for i in range(n):\n",
    "    price = get_price(120,mu,sigma,start_price)\n",
    "    result.append(price)\n",
    "\n",
    "n, bins, patches = plt.hist(result, 50, normed=1, facecolor='green', alpha=0.75)\n",
    "plt.xlabel('Price')\n",
    "plt.ylabel('Probability')\n",
    "plt.title('Simulation of ED Stock Price In 120 Days')"
   ]
  },
  {
   "cell_type": "code",
   "execution_count": 97,
   "metadata": {
    "collapsed": false
   },
   "outputs": [
    {
     "name": "stdout",
     "output_type": "stream",
     "text": [
      "The VaR with 99% confidence is $58.2\n"
     ]
    }
   ],
   "source": [
    "final_result = round(np.percentile(result, 1),1)\n",
    "print('The VaR with 99% confidence is ${}').format(final_result)"
   ]
  },
  {
   "cell_type": "code",
   "execution_count": 98,
   "metadata": {
    "collapsed": false
   },
   "outputs": [
    {
     "data": {
      "text/html": [
       "<div>\n",
       "<table border=\"1\" class=\"dataframe\">\n",
       "  <thead>\n",
       "    <tr style=\"text-align: right;\">\n",
       "      <th></th>\n",
       "      <th>ED</th>\n",
       "      <th>SP500</th>\n",
       "    </tr>\n",
       "    <tr>\n",
       "      <th>Date</th>\n",
       "      <th></th>\n",
       "      <th></th>\n",
       "    </tr>\n",
       "  </thead>\n",
       "  <tbody>\n",
       "    <tr>\n",
       "      <th>2005-01-04</th>\n",
       "      <td>-0.003002</td>\n",
       "      <td>-0.011671</td>\n",
       "    </tr>\n",
       "    <tr>\n",
       "      <th>2005-01-05</th>\n",
       "      <td>-0.010887</td>\n",
       "      <td>-0.003628</td>\n",
       "    </tr>\n",
       "    <tr>\n",
       "      <th>2005-01-06</th>\n",
       "      <td>0.001171</td>\n",
       "      <td>0.003506</td>\n",
       "    </tr>\n",
       "    <tr>\n",
       "      <th>2005-01-07</th>\n",
       "      <td>0.002807</td>\n",
       "      <td>-0.001431</td>\n",
       "    </tr>\n",
       "    <tr>\n",
       "      <th>2005-01-10</th>\n",
       "      <td>0.012829</td>\n",
       "      <td>0.003423</td>\n",
       "    </tr>\n",
       "  </tbody>\n",
       "</table>\n",
       "</div>"
      ],
      "text/plain": [
       "                  ED     SP500\n",
       "Date                          \n",
       "2005-01-04 -0.003002 -0.011671\n",
       "2005-01-05 -0.010887 -0.003628\n",
       "2005-01-06  0.001171  0.003506\n",
       "2005-01-07  0.002807 -0.001431\n",
       "2005-01-10  0.012829  0.003423"
      ]
     },
     "execution_count": 98,
     "metadata": {},
     "output_type": "execute_result"
    }
   ],
   "source": [
    "rets.head()"
   ]
  },
  {
   "cell_type": "code",
   "execution_count": 99,
   "metadata": {
    "collapsed": true
   },
   "outputs": [],
   "source": [
    "ret1 = rets['20080101':'20081231']\n",
    "ret2 = rets['20120101':'20121231']\n",
    "frames = [ret1,ret2]\n",
    "rets_new = pd.concat(frames)"
   ]
  },
  {
   "cell_type": "code",
   "execution_count": 100,
   "metadata": {
    "collapsed": false
   },
   "outputs": [
    {
     "data": {
      "text/html": [
       "<div>\n",
       "<table border=\"1\" class=\"dataframe\">\n",
       "  <thead>\n",
       "    <tr style=\"text-align: right;\">\n",
       "      <th></th>\n",
       "      <th>ED</th>\n",
       "      <th>SP500</th>\n",
       "    </tr>\n",
       "    <tr>\n",
       "      <th>Date</th>\n",
       "      <th></th>\n",
       "      <th></th>\n",
       "    </tr>\n",
       "  </thead>\n",
       "  <tbody>\n",
       "    <tr>\n",
       "      <th>2008-01-02</th>\n",
       "      <td>-0.014944</td>\n",
       "      <td>-0.014438</td>\n",
       "    </tr>\n",
       "    <tr>\n",
       "      <th>2008-01-03</th>\n",
       "      <td>-0.001247</td>\n",
       "      <td>0.000000</td>\n",
       "    </tr>\n",
       "    <tr>\n",
       "      <th>2008-01-04</th>\n",
       "      <td>-0.002913</td>\n",
       "      <td>-0.024552</td>\n",
       "    </tr>\n",
       "    <tr>\n",
       "      <th>2008-01-07</th>\n",
       "      <td>0.014190</td>\n",
       "      <td>0.003223</td>\n",
       "    </tr>\n",
       "    <tr>\n",
       "      <th>2008-01-08</th>\n",
       "      <td>-0.005556</td>\n",
       "      <td>-0.018352</td>\n",
       "    </tr>\n",
       "  </tbody>\n",
       "</table>\n",
       "</div>"
      ],
      "text/plain": [
       "                  ED     SP500\n",
       "Date                          \n",
       "2008-01-02 -0.014944 -0.014438\n",
       "2008-01-03 -0.001247  0.000000\n",
       "2008-01-04 -0.002913 -0.024552\n",
       "2008-01-07  0.014190  0.003223\n",
       "2008-01-08 -0.005556 -0.018352"
      ]
     },
     "execution_count": 100,
     "metadata": {},
     "output_type": "execute_result"
    }
   ],
   "source": [
    "rets_new.head()"
   ]
  },
  {
   "cell_type": "code",
   "execution_count": 101,
   "metadata": {
    "collapsed": false
   },
   "outputs": [
    {
     "data": {
      "text/html": [
       "<div>\n",
       "<table border=\"1\" class=\"dataframe\">\n",
       "  <thead>\n",
       "    <tr style=\"text-align: right;\">\n",
       "      <th></th>\n",
       "      <th>ED</th>\n",
       "      <th>SP500</th>\n",
       "    </tr>\n",
       "    <tr>\n",
       "      <th>Date</th>\n",
       "      <th></th>\n",
       "      <th></th>\n",
       "    </tr>\n",
       "  </thead>\n",
       "  <tbody>\n",
       "    <tr>\n",
       "      <th>2012-12-24</th>\n",
       "      <td>-0.001427</td>\n",
       "      <td>-0.002440</td>\n",
       "    </tr>\n",
       "    <tr>\n",
       "      <th>2012-12-26</th>\n",
       "      <td>-0.009112</td>\n",
       "      <td>-0.004787</td>\n",
       "    </tr>\n",
       "    <tr>\n",
       "      <th>2012-12-27</th>\n",
       "      <td>-0.000721</td>\n",
       "      <td>-0.001218</td>\n",
       "    </tr>\n",
       "    <tr>\n",
       "      <th>2012-12-28</th>\n",
       "      <td>-0.008842</td>\n",
       "      <td>-0.011050</td>\n",
       "    </tr>\n",
       "    <tr>\n",
       "      <th>2012-12-31</th>\n",
       "      <td>0.011105</td>\n",
       "      <td>0.016942</td>\n",
       "    </tr>\n",
       "  </tbody>\n",
       "</table>\n",
       "</div>"
      ],
      "text/plain": [
       "                  ED     SP500\n",
       "Date                          \n",
       "2012-12-24 -0.001427 -0.002440\n",
       "2012-12-26 -0.009112 -0.004787\n",
       "2012-12-27 -0.000721 -0.001218\n",
       "2012-12-28 -0.008842 -0.011050\n",
       "2012-12-31  0.011105  0.016942"
      ]
     },
     "execution_count": 101,
     "metadata": {},
     "output_type": "execute_result"
    }
   ],
   "source": [
    "rets_new.tail()"
   ]
  },
  {
   "cell_type": "code",
   "execution_count": 102,
   "metadata": {
    "collapsed": true
   },
   "outputs": [],
   "source": [
    "mu_new = rets_new.mean()['ED']\n",
    "sigma_new = rets_new.std()['ED']"
   ]
  },
  {
   "cell_type": "code",
   "execution_count": 103,
   "metadata": {
    "collapsed": false
   },
   "outputs": [
    {
     "data": {
      "text/plain": [
       "<matplotlib.text.Text at 0x110a89b50>"
      ]
     },
     "execution_count": 103,
     "metadata": {},
     "output_type": "execute_result"
    },
    {
     "data": {
      "image/png": "[encoded data removed]",
      "text/plain": [
       "<matplotlib.figure.Figure at 0x11002d8d0>"
      ]
     },
     "metadata": {},
     "output_type": "display_data"
    }
   ],
   "source": [
    "n=10000\n",
    "result = []\n",
    "\n",
    "for i in range(n):\n",
    "    price = get_price(120,mu_new,sigma_new,start_price)\n",
    "    result.append(price)\n",
    "\n",
    "n, bins, patches = plt.hist(result, 50, normed=1, facecolor='red', alpha=0.75)\n",
    "plt.xlabel('Price')\n",
    "plt.ylabel('Probability')\n",
    "plt.title('Simulation II of ED Stock Price In 120 Days')"
   ]
  },
  {
   "cell_type": "code",
   "execution_count": 104,
   "metadata": {
    "collapsed": false
   },
   "outputs": [
    {
     "name": "stdout",
     "output_type": "stream",
     "text": [
      "The VaR with 99% confidence is $48.2\n"
     ]
    }
   ],
   "source": [
    "final_result = round(np.percentile(result, 1),1)\n",
    "print('The VaR with 99% confidence is ${}').format(final_result)"
   ]
  },
  {
   "cell_type": "code",
   "execution_count": null,
   "metadata": {
    "collapsed": true
   },
   "outputs": [],
   "source": []
  }
 ],
 "metadata": {
  "kernelspec": {
   "display_name": "Python 2",
   "language": "python",
   "name": "python2"
  },
  "language_info": {
   "codemirror_mode": {
    "name": "ipython",
    "version": 2
   },
   "file_extension": ".py",
   "mimetype": "text/x-python",
   "name": "python",
   "nbconvert_exporter": "python",
   "pygments_lexer": "ipython2",
   "version": "2.7.10"
  }
 },
 "nbformat": 4,
 "nbformat_minor": 0
}
